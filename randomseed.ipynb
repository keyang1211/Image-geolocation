{
 "cells": [
  {
   "cell_type": "code",
   "execution_count": 9,
   "id": "5829ef90-91be-4b4b-a957-c5e4453c02e4",
   "metadata": {
    "tags": []
   },
   "outputs": [
    {
     "name": "stdout",
     "output_type": "stream",
     "text": [
      "[1, 2, 5, 6, 8, 9, 11, 13, 16, 17, 19, 22, 24, 27, 28, 30, 31, 32, 34, 38, 39, 43, 44, 45, 48, 49, 50, 51, 52, 54, 56, 57, 58, 60, 65, 69, 70, 72, 73, 80, 86, 87, 89, 90, 91, 95, 96, 98, 99, 100, 101, 102, 105, 108, 109, 114, 116, 117, 118, 120, 123, 124, 125, 126, 128, 129, 130, 135, 136, 140, 144, 145, 146, 147, 148, 149, 152, 153, 156, 158, 159, 161, 162, 163, 166, 168, 171, 175, 180, 183, 185, 186, 189, 193, 196, 199, 201, 202, 203, 204, 205, 214, 215, 216, 221, 222, 227, 228, 229, 232, 233, 234, 235, 236, 242, 243, 246, 247, 248, 250, 251, 252, 253, 254, 255, 256, 261, 262, 263, 266, 267, 268, 269, 270, 272, 276, 277, 279, 280, 283, 285, 286, 288, 289, 290, 291, 295, 296, 299, 301, 305, 306, 307, 308, 312, 313, 314, 315, 316, 318, 320, 322, 324, 327, 333, 336, 337, 339, 341, 342, 343, 344, 345, 346, 349, 350, 351, 353, 355, 356, 357, 358, 359, 361, 362, 364, 366, 368, 369, 371, 372, 375, 376, 377, 378, 379, 381, 383, 385, 386, 387, 388, 389, 393, 396, 397, 400, 401, 403, 404, 410, 412, 413, 415, 416, 417, 419, 420, 421, 428, 431, 433, 434, 436, 437, 438, 439, 440, 442, 444, 446, 448, 450, 453, 454, 456, 461, 463, 465, 466, 467, 468, 471, 472, 473, 474, 476, 479, 481, 484, 485, 486, 487, 491, 492, 496, 497, 504, 505, 506, 507, 508, 509, 510, 511, 512, 518, 519, 524, 526, 528, 529, 530, 531, 532, 533, 535, 537, 538, 539, 540, 541, 542, 544, 545, 546, 547, 548, 551, 552, 553, 555, 556, 558, 559, 562, 563, 570, 572, 573, 574, 575, 576, 577, 580, 584, 586, 587, 588, 591, 592, 593, 594, 595, 599, 601, 603, 605, 606, 609, 613, 616, 618, 619, 622, 625, 626, 632, 634, 635, 638, 639, 640, 641, 647, 649, 650, 652, 654, 655, 658, 660, 663, 665, 669, 670, 674, 680, 682, 683, 690, 692, 693, 697, 698, 699, 700, 701, 702, 703, 704, 705, 707, 709, 710, 711, 712, 714, 716, 721, 724, 727, 728, 738, 741, 743, 750, 753, 755, 756, 759, 764, 765, 766, 768, 770, 771, 774, 776, 785, 786, 791, 793, 794, 797, 798, 805, 806, 809, 812, 813, 814, 816, 817, 819, 820, 822, 827, 829, 830, 831, 833, 834, 837, 838, 839, 840, 841, 844, 845, 846, 847, 848, 850, 852, 853, 857, 858, 859, 860, 862, 868, 870, 873, 875, 876, 878, 879, 885, 887, 890, 896, 905, 908, 909, 911, 912, 914, 915, 917, 919, 920, 923, 925, 926, 927, 928, 930, 932, 934, 936, 937, 940, 943, 945, 949, 950, 951, 952, 953, 954, 956, 958, 961, 962, 964, 965, 969, 970, 971, 972, 975, 977, 978, 979, 980, 981, 985, 986, 987, 988, 989, 991, 992, 993, 994, 995, 998, 999, 1000]\n"
     ]
    }
   ],
   "source": [
    "import random\n",
    "\n",
    "# 设置随机种子，确保每次运行结果一致\n",
    "random.seed(50)\n",
    "\n",
    "# 创建一个包含0到1000的列表\n",
    "my_list = list(range(1001))\n",
    "\n",
    "# 随机选择一半数据\n",
    "half_length = len(my_list) // 2\n",
    "selected_indices = random.sample(range(len(my_list)), half_length)\n",
    "selected_data = [my_list[i] for i in selected_indices]\n",
    "\n",
    "print(sorted(selected_data))\n"
   ]
  },
  {
   "cell_type": "code",
   "execution_count": 5,
   "id": "0631a9b4-dc0e-4f6a-b4c7-6df930883cb2",
   "metadata": {},
   "outputs": [
    {
     "name": "stdout",
     "output_type": "stream",
     "text": [
      "19893.99783195475\n"
     ]
    }
   ],
   "source": [
    "import torch\n",
    "\n",
    "def vectorized_gc_distance(lat1, lon1, lat2, lon2):\n",
    "    # lat1 = lat1.to(torch.float32)\n",
    "    # lon1 = lon1.to(torch.float32)\n",
    "    # lat2 = lat2.to(torch.float32)\n",
    "    # lon2 = lon2.to(torch.float32)\n",
    "\n",
    "    R = 6371.0  # 地球半径（单位：千米）\n",
    "    # 将角度转换为弧度\n",
    "    lat1_rad = torch.deg2rad(lat1)\n",
    "    lon1_rad = torch.deg2rad(lon1)\n",
    "    lat2_rad = torch.deg2rad(lat2)\n",
    "    lon2_rad = torch.deg2rad(lon2)\n",
    "\n",
    "    # 经纬度差\n",
    "    dlat = lat2_rad - lat1_rad\n",
    "    dlon = lon2_rad - lon1_rad\n",
    "    \n",
    "    # 使用球面余弦定理计算距离\n",
    "    a = torch.sin(dlat / 2)**2 + torch.cos(lat1_rad) * torch.cos(lat2_rad) * torch.sin(dlon / 2)**2\n",
    "    c = 2 * torch.atan2(torch.sqrt(a), torch.sqrt(1 - a))\n",
    "\n",
    "    distance = R * c\n",
    "    return distance\n",
    "\n",
    "# 给定两个经纬度坐标点\n",
    "latitudes = torch.tensor([44.7188], dtype=torch.float64)\n",
    "longitudes = torch.tensor([-8.0078], dtype=torch.float64)\n",
    "latitudes_gt = torch.tensor([-43.8897], dtype=torch.float64)\n",
    "longitudes_gt = torch.tensor([172.9788], dtype=torch.float64)\n",
    "\n",
    "# 调用函数计算距离\n",
    "result = vectorized_gc_distance(latitudes, longitudes, latitudes_gt, longitudes_gt)\n",
    "print(result.item())  # 输出两点之间的球面距离"
   ]
  },
  {
   "cell_type": "code",
   "execution_count": null,
   "id": "07ed21ea-ad59-4499-8ea0-92f32c7a32cc",
   "metadata": {},
   "outputs": [],
   "source": []
  }
 ],
 "metadata": {
  "kernelspec": {
   "display_name": "Python 3 (ipykernel)",
   "language": "python",
   "name": "python3"
  },
  "language_info": {
   "codemirror_mode": {
    "name": "ipython",
    "version": 3
   },
   "file_extension": ".py",
   "mimetype": "text/x-python",
   "name": "python",
   "nbconvert_exporter": "python",
   "pygments_lexer": "ipython3",
   "version": "3.8.18"
  }
 },
 "nbformat": 4,
 "nbformat_minor": 5
}
